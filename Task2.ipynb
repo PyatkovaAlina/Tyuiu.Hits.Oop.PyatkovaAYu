{
 "cells": [
  {
   "cell_type": "code",
   "execution_count": 3,
   "metadata": {
    "dotnet_interactive": {
     "language": "csharp"
    },
    "polyglot_notebook": {
     "kernelName": "csharp"
    }
   },
   "outputs": [],
   "source": [
    "public class Animal\n",
    "{\n",
    "    public virtual void Obey() \n",
    "    {\n",
    "        Console.WriteLine(\"Собака слушается...\");\n",
    "    }\n",
    "}\n",
    "public interface ISound\n",
    "{\n",
    "    void Bark();\n",
    "}\n",
    "\n",
    "public class Car : Animal, ISound\n",
    "{\n",
    "    public void Bark() \n",
    "    {\n",
    "        Console.WriteLine(\"Собака лает...\");\n",
    "    }\n",
    "}\n"
   ]
  },
  {
   "cell_type": "code",
   "execution_count": 6,
   "metadata": {
    "dotnet_interactive": {
     "language": "csharp"
    },
    "polyglot_notebook": {
     "kernelName": "csharp"
    }
   },
   "outputs": [],
   "source": [
    "public interface ISound\n",
    "{\n",
    "    void Obey();\n",
    "}\n",
    "\n",
    "public class Animal : ISound\n",
    "{\n",
    "    public void Obey() \n",
    "    {\n",
    "        Console.WriteLine(\"Животное слушается...\");\n",
    "    }\n",
    "}\n",
    "\n",
    "public class Dog : ISound\n",
    "{\n",
    "    public void Obey() \n",
    "    {\n",
    "        Console.WriteLine(\"Собака слушается...\");\n",
    "    }\n",
    "\n",
    "    public void Bark() \n",
    "    {\n",
    "        Console.WriteLine(\"Собака лает...\");\n",
    "    }\n",
    "}"
   ]
  },
  {
   "cell_type": "code",
   "execution_count": 8,
   "metadata": {
    "dotnet_interactive": {
     "language": "csharp"
    },
    "polyglot_notebook": {
     "kernelName": "csharp"
    }
   },
   "outputs": [],
   "source": [
    "public interface IMyPet\n",
    "{\n",
    "    void Obey();\n",
    "}\n",
    "\n",
    "public interface IStrayPet\n",
    "{\n",
    "    void Run();\n",
    "}\n",
    "\n",
    "public class Dog : IMyPet\n",
    "{\n",
    "    public void Obey() \n",
    "    {\n",
    "        Console.WriteLine(\"Собака слушается...\");\n",
    "    }\n",
    "\n",
    "    public void Bark() \n",
    "    {\n",
    "        Console.WriteLine(\"Собака лает...\");\n",
    "    }\n",
    "}\n",
    "\n",
    "public class Cat : IStrayPet\n",
    "{\n",
    "    public void Run() \n",
    "    {\n",
    "        Console.WriteLine(\"Кошка бежит\");\n",
    "    }\n",
    "}"
   ]
  },
  {
   "cell_type": "code",
   "execution_count": 2,
   "metadata": {
    "dotnet_interactive": {
     "language": "csharp"
    },
    "polyglot_notebook": {
     "kernelName": "csharp"
    }
   },
   "outputs": [],
   "source": [
    "public interface IAnimal\n",
    "{\n",
    "    void Obey();\n",
    "}\n",
    "\n",
    "public interface ICanBark\n",
    "{\n",
    "    void Bark();\n",
    "}\n",
    "\n",
    "public interface ICanRun\n",
    "{\n",
    "    void Run();\n",
    "}\n",
    "\n",
    "public interface ICanSpeak\n",
    "{\n",
    "    void Speak();\n",
    "}\n",
    "\n",
    "public class Dog : IAnimal, ICanBark\n",
    "{\n",
    "    public void Obey() \n",
    "    {\n",
    "        Console.WriteLine(\"Собака слушается...\");\n",
    "    }\n",
    "\n",
    "    public void Bark() \n",
    "    {\n",
    "        Console.WriteLine(\"Собака лает...\");\n",
    "    }\n",
    "}\n",
    "\n",
    "public class Cat : IAnimal, ICanRun\n",
    "{\n",
    "    public void Obey() \n",
    "    {\n",
    "        Console.WriteLine(\"Кошка слушается...\");\n",
    "    }\n",
    "\n",
    "    public void Run() \n",
    "    {\n",
    "        Console.WriteLine(\"Кошка бежит...\");\n",
    "    }\n",
    "}"
   ]
  },
  {
   "cell_type": "code",
   "execution_count": 10,
   "metadata": {
    "dotnet_interactive": {
     "language": "csharp"
    },
    "polyglot_notebook": {
     "kernelName": "csharp"
    }
   },
   "outputs": [],
   "source": [
    "public interface IUnderstanding\n",
    "{\n",
    "    void Start();\n",
    "}\n",
    "\n",
    "public class GiveThePow : IUnderstanding\n",
    "{\n",
    "    public void Start()\n",
    "    {\n",
    "        Console.WriteLine(\"Понимание команды 'дать лапу'...\");\n",
    "    }\n",
    "}\n",
    "\n",
    "public class Dog\n",
    "{\n",
    "    private IUnderstanding _understanding;\n",
    "\n",
    "    public Dog(IUnderstanding understanding)\n",
    "    {\n",
    "        _understanding = understanding;\n",
    "    }\n",
    "\n",
    "    public void StartUnderstanding()\n",
    "    {\n",
    "        _understanding.Start();\n",
    "    }\n",
    "}"
   ]
  }
 ],
 "metadata": {
  "kernelspec": {
   "display_name": ".NET (C#)",
   "language": "C#",
   "name": ".net-csharp"
  },
  "polyglot_notebook": {
   "kernelInfo": {
    "defaultKernelName": "csharp",
    "items": [
     {
      "aliases": [],
      "languageName": "csharp",
      "name": "csharp"
     }
    ]
   }
  }
 },
 "nbformat": 4,
 "nbformat_minor": 2
}
