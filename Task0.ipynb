{
 "cells": [
  {
   "cell_type": "code",
   "execution_count": 1,
   "metadata": {
    "dotnet_interactive": {
     "language": "csharp"
    },
    "polyglot_notebook": {
     "kernelName": "csharp"
    },
    "vscode": {
     "languageId": "polyglot-notebook"
    }
   },
   "outputs": [
    {
     "name": "stdout",
     "output_type": "stream",
     "text": [
      "Минимальное значение: 1\n",
      "Максимальное значение: 9\n",
      "Сумма всех элементов: 41\n",
      "Среднее арифметическое: 5.125\n",
      "Отсортированный массив: 1, 2, 3, 5, 6, 7, 8, 9\n",
      "Массив содержит 5: True\n"
     ]
    }
   ],
   "source": [
    "        int[] numbers = { 5, 8, 1, 3, 9, 6, 7, 2 };\n",
    "\n",
    "        int min = FindMin(numbers);\n",
    "        int max = FindMax(numbers);\n",
    "        Console.WriteLine($\"Минимальное значение: {min}\");\n",
    "        Console.WriteLine($\"Максимальное значение: {max}\");\n",
    "\n",
    "        int sum = CalculateSum(numbers);\n",
    "        Console.WriteLine($\"Сумма всех элементов: {sum}\");\n",
    "\n",
    "        double average = CalculateAverage(numbers);\n",
    "        Console.WriteLine($\"Среднее арифметическое: {average}\");\n",
    "\n",
    "        Array.Sort(numbers);\n",
    "        Console.WriteLine(\"Отсортированный массив: \" + string.Join(\", \", numbers));\n",
    "\n",
    "        int numberToCheck = 5;\n",
    "        bool contains = ContainsNumber(numbers, numberToCheck);\n",
    "        Console.WriteLine($\"Массив содержит {numberToCheck}: {contains}\");\n",
    "    \n",
    "\n",
    "    static int FindMin(int[] arr)\n",
    "    {\n",
    "        int minValue = arr[0];\n",
    "        foreach (int number in arr)\n",
    "        {\n",
    "            if (number < minValue)\n",
    "            {\n",
    "                minValue = number;\n",
    "            }\n",
    "        }\n",
    "        return minValue;\n",
    "    }\n",
    "    \n",
    "\n",
    "    static int FindMax(int[] arr)\n",
    "    {\n",
    "        int maxValue = arr[0];\n",
    "        foreach (int number in arr)\n",
    "        {\n",
    "            if (number > maxValue)\n",
    "            {\n",
    "                maxValue = number;\n",
    "            }\n",
    "        }\n",
    "        return maxValue;\n",
    "    }\n",
    "\n",
    "    static int CalculateSum(int[] arr)\n",
    "    {\n",
    "        int sum = 0;\n",
    "        foreach (int number in arr)\n",
    "        {\n",
    "            sum += number;\n",
    "        }\n",
    "        return sum;\n",
    "    }\n",
    "\n",
    "    static double CalculateAverage(int[] arr)\n",
    "    {\n",
    "        int sum = CalculateSum(arr);\n",
    "        return (double)sum / arr.Length;\n",
    "    }\n",
    "\n",
    "    static bool ContainsNumber(int[] arr, int number)\n",
    "    {\n",
    "        foreach (int n in arr)\n",
    "        {\n",
    "            if (n == number)\n",
    "            {\n",
    "                return true;\n",
    "            }\n",
    "        }\n",
    "        return false;\n",
    "    }"
   ]
  }
 ],
 "metadata": {
  "kernelspec": {
   "display_name": ".NET (C#)",
   "language": "C#",
   "name": ".net-csharp"
  },
  "language_info": {
   "name": "csharp"
  },
  "polyglot_notebook": {
   "kernelInfo": {
    "defaultKernelName": "csharp",
    "items": [
     {
      "aliases": [],
      "name": "csharp"
     }
    ]
   }
  }
 },
 "nbformat": 4,
 "nbformat_minor": 2
}
