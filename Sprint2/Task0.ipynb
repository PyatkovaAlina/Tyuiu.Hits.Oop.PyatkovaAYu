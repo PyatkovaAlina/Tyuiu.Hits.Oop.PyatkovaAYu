{
 "cells": [
  {
   "cell_type": "code",
   "execution_count": 1,
   "metadata": {
    "vscode": {
     "languageId": "polyglot-notebook"
    }
   },
   "outputs": [
    {
     "name": "stdout",
     "output_type": "stream",
     "text": [
      "Бобик лает.\n",
      "Мурка мяукает.\n",
      "Кеша поет.\n",
      "Бобик двигается.\n",
      "Мурка двигается.\n",
      "Кеша летает.\n"
     ]
    }
   ],
   "source": [
    "class Animal\n",
    "{\n",
    "    public string Name { get; set; }\n",
    "    public int Age { get; set; }\n",
    "\n",
    "    public Animal(string name, int age)\n",
    "    {\n",
    "        Name = name;\n",
    "        Age = age;\n",
    "    }\n",
    "\n",
    "    public virtual void Speak()\n",
    "    {\n",
    "        Console.WriteLine($\"{Name} издает звук.\");\n",
    "    }\n",
    "\n",
    "    public virtual void Move()\n",
    "    {\n",
    "        Console.WriteLine($\"{Name} двигается.\");\n",
    "    }\n",
    "}\n",
    "\n",
    "class Dog : Animal\n",
    "{\n",
    "    public string Breed { get; set; }\n",
    "\n",
    "    public Dog(string name, int age, string breed) : base(name, age)\n",
    "    {\n",
    "        Breed = breed;\n",
    "    }\n",
    "\n",
    "    public override void Speak()\n",
    "    {\n",
    "        Console.WriteLine($\"{Name} лает.\");\n",
    "    }\n",
    "}\n",
    "\n",
    "class Cat : Animal\n",
    "{\n",
    "    public string Color { get; set; }\n",
    "\n",
    "    public Cat(string name, int age, string color) : base(name, age)\n",
    "    {\n",
    "        Color = color;\n",
    "    }\n",
    "\n",
    "    public override void Speak()\n",
    "    {\n",
    "        Console.WriteLine($\"{Name} мяукает.\");\n",
    "    }\n",
    "}\n",
    "\n",
    "class Bird : Animal\n",
    "{\n",
    "    public double WingSpan { get; set; }\n",
    "\n",
    "    public Bird(string name, int age, double wingSpan) : base(name, age)\n",
    "    {\n",
    "        WingSpan = wingSpan;\n",
    "    }\n",
    "\n",
    "    public override void Speak()\n",
    "    {\n",
    "        Console.WriteLine($\"{Name} поет.\");\n",
    "    }\n",
    "\n",
    "    public override void Move()\n",
    "    {\n",
    "        Console.WriteLine($\"{Name} летает.\");\n",
    "    }\n",
    "}\n",
    "\n",
    "var dog = new Dog(\"Бобик\", 5, \"Овчарка\");\n",
    "var cat = new Cat(\"Мурка\", 3, \"Черная\");\n",
    "var bird = new Bird(\"Кеша\", 2, 1.2);\n",
    "\n",
    "dog.Speak();\n",
    "cat.Speak();\n",
    "bird.Speak();\n",
    "\n",
    "dog.Move();\n",
    "cat.Move();\n",
    "bird.Move();"
   ]
  }
 ],
 "metadata": {
  "kernelspec": {
   "display_name": ".NET (C#)",
   "language": "C#",
   "name": ".net-csharp"
  },
  "language_info": {
   "name": "csharp"
  },
  "polyglot_notebook": {
   "kernelInfo": {
    "defaultKernelName": "csharp",
    "items": [
     {
      "aliases": [],
      "name": "csharp"
     }
    ]
   }
  }
 },
 "nbformat": 4,
 "nbformat_minor": 2
}
