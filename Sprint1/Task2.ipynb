{
 "cells": [
  {
   "cell_type": "code",
   "execution_count": 2,
   "metadata": {
    "dotnet_interactive": {
     "language": "csharp"
    },
    "polyglot_notebook": {
     "kernelName": "csharp"
    },
    "vscode": {
     "languageId": "polyglot-notebook"
    }
   },
   "outputs": [
    {
     "name": "stdout",
     "output_type": "stream",
     "text": [
      "Бобик лает.\n",
      "Мурка мяукает.\n",
      "Бобик гонится за Мурка!\n",
      "Мурка шипит на Бобик и убегает.\n",
      "Всего животных: 2\n",
      "Всего собак: 1\n",
      "Всего кошек: 1\n"
     ]
    }
   ],
   "source": [
    "class Animal\n",
    "{\n",
    "    public string Name { get; set; }\n",
    "    public int Age { get; set; }\n",
    "    private static int animalCount = 0;\n",
    "\n",
    "    public Animal(string name, int age)\n",
    "    {\n",
    "        Name = name;\n",
    "        Age = age;\n",
    "        animalCount++;\n",
    "    }\n",
    "\n",
    "    public static int AnimalCount\n",
    "    {\n",
    "        get { return animalCount; }\n",
    "    }\n",
    "\n",
    "    public virtual void Speak()\n",
    "    {\n",
    "        Console.WriteLine($\"{Name} издает звук.\");\n",
    "    }\n",
    "\n",
    "    public virtual void Move()\n",
    "    {\n",
    "        Console.WriteLine($\"{Name} двигается.\");\n",
    "    }\n",
    "\n",
    "    public virtual void Interact(Animal other)\n",
    "    {\n",
    "        Console.WriteLine($\"{Name} взаимодействует с {other.Name}\");\n",
    "    }\n",
    "}\n",
    "\n",
    "class Dog : Animal\n",
    "{\n",
    "    public string Breed { get; set; }\n",
    "    public static int dogCount = 0;\n",
    "\n",
    "    public Dog(string name, int age, string breed) : base(name, age)\n",
    "    {\n",
    "        Breed = breed;\n",
    "        dogCount++;\n",
    "    }\n",
    "\n",
    "    public override void Speak()\n",
    "    {\n",
    "        Console.WriteLine($\"{Name} лает.\");\n",
    "    }\n",
    "\n",
    "    public override void Interact(Animal other)\n",
    "    {\n",
    "        if (other is Cat)\n",
    "        {\n",
    "            Console.WriteLine($\"{Name} гонится за {other.Name}!\");\n",
    "        }\n",
    "        else\n",
    "        {\n",
    "            Console.WriteLine($\"{Name} обнюхивает {other.Name}.\");\n",
    "        }\n",
    "    }\n",
    "\n",
    "    public static void ShowDogCount()\n",
    "    {\n",
    "        Console.WriteLine($\"Всего собак: {dogCount}\");\n",
    "    }\n",
    "}\n",
    "\n",
    "class Cat : Animal\n",
    "{\n",
    "    public string Color { get; set; }\n",
    "    public static int catCount = 0;\n",
    "\n",
    "    public Cat(string name, int age, string color) : base(name, age)\n",
    "    {\n",
    "        Color = color;\n",
    "        catCount++;\n",
    "    }\n",
    "\n",
    "    public override void Speak()\n",
    "    {\n",
    "        Console.WriteLine($\"{Name} мяукает.\");\n",
    "    }\n",
    "\n",
    "    public override void Interact(Animal other)\n",
    "    {\n",
    "        if (other is Dog)\n",
    "        {\n",
    "            Console.WriteLine($\"{Name} шипит на {other.Name} и убегает.\");\n",
    "        }\n",
    "        else\n",
    "        {\n",
    "            Console.WriteLine($\"{Name} ласково трется о {other.Name}.\");\n",
    "        }\n",
    "    }\n",
    "\n",
    "    public static void ShowCatCount()\n",
    "    {\n",
    "        Console.WriteLine($\"Всего кошек: {catCount}\");\n",
    "    }\n",
    "}\n",
    "\n",
    "var dog = new Dog(\"Бобик\", 5, \"Овчарка\");\n",
    "var cat = new Cat(\"Мурка\", 3, \"Черная\");\n",
    "\n",
    "dog.Speak();\n",
    "cat.Speak();\n",
    "\n",
    "dog.Interact(cat);\n",
    "cat.Interact(dog);\n",
    "\n",
    "Console.WriteLine($\"Всего животных: {Animal.AnimalCount}\");\n",
    "Dog.ShowDogCount();\n",
    "Cat.ShowCatCount();"
   ]
  }
 ],
 "metadata": {
  "kernelspec": {
   "display_name": ".NET (C#)",
   "language": "C#",
   "name": ".net-csharp"
  },
  "language_info": {
   "name": "csharp"
  },
  "polyglot_notebook": {
   "kernelInfo": {
    "defaultKernelName": "csharp",
    "items": [
     {
      "aliases": [],
      "name": "csharp"
     }
    ]
   }
  }
 },
 "nbformat": 4,
 "nbformat_minor": 2
}
