{
 "cells": [
  {
   "cell_type": "code",
   "execution_count": 3,
   "metadata": {
    "dotnet_interactive": {
     "language": "csharp"
    },
    "polyglot_notebook": {
     "kernelName": "csharp"
    },
    "vscode": {
     "languageId": "polyglot-notebook"
    }
   },
   "outputs": [
    {
     "name": "stdout",
     "output_type": "stream",
     "text": [
      "Name: Тигр, age: 5.\n",
      "Name: Unknown, age: 0.\n",
      "Name: Unknown, age: 10.\n",
      "Тигр издает звук\n",
      "Unknown издает звук\n",
      "Тигр двигается\n",
      "Unknown двигается\n"
     ]
    }
   ],
   "source": [
    "public interface IAnimal \n",
    "{\n",
    "    void Speak();\n",
    "    void Move();\n",
    "}\n",
    "\n",
    "class Animal : IAnimal\n",
    "{\n",
    "    private string name {get; set;}\n",
    "    private int age;\n",
    "\n",
    "    public int Age\n",
    "    {\n",
    "        get {return age;}\n",
    "        set{\n",
    "            if (value>=0){\n",
    "                age=value;\n",
    "            }\n",
    "        }\n",
    "    }\n",
    "\n",
    "    public Animal()\n",
    "    {\n",
    "        name=\"Unknown\";\n",
    "        age=0;\n",
    "    }\n",
    "\n",
    "    public Animal(string name, int age)\n",
    "    {\n",
    "        this.age=age;\n",
    "        this.name=name;\n",
    "    }\n",
    "\n",
    "    public string GetInfo()\n",
    "    {\n",
    "        return $\"Name: {name}, age: {age}.\";\n",
    "    }\n",
    "\n",
    "    public virtual void Speak()\n",
    "    {\n",
    "        Console.WriteLine($\"{name} издает звук\");\n",
    "    }\n",
    "\n",
    "    public void Move()\n",
    "    {\n",
    "        Console.WriteLine($\"{name} двигается\");\n",
    "    }\n",
    "\n",
    "    ~Animal()\n",
    "    {\n",
    "        Console.WriteLine($\"{name} удалено\");\n",
    "    }\n",
    "}\n",
    "\n",
    "Animal animal1=new Animal(\"Тигр\",5);\n",
    "Animal animal2=new Animal();\n",
    "\n",
    "Console.WriteLine(animal1.GetInfo());\n",
    "Console.WriteLine(animal2.GetInfo());\n",
    "\n",
    "animal2.Age=10;\n",
    "Console.WriteLine(animal2.GetInfo());\n",
    "\n",
    "animal1.Speak();\n",
    "animal2.Speak();\n",
    "\n",
    "animal1.Move();\n",
    "animal2.Move();\n"
   ]
  }
 ],
 "metadata": {
  "kernelspec": {
   "display_name": ".NET (C#)",
   "language": "C#",
   "name": ".net-csharp"
  },
  "language_info": {
   "name": "csharp"
  },
  "polyglot_notebook": {
   "kernelInfo": {
    "defaultKernelName": "csharp",
    "items": [
     {
      "aliases": [],
      "name": "csharp"
     }
    ]
   }
  }
 },
 "nbformat": 4,
 "nbformat_minor": 2
}
