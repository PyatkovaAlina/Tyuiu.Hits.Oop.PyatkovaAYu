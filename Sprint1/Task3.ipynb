{
 "cells": [
  {
   "cell_type": "markdown",
   "metadata": {},
   "source": [
    "Индивидальный проект\n",
    "\n",
    "Название проекта: Информация о деталях заказа"
   ]
  },
  {
   "cell_type": "markdown",
   "metadata": {},
   "source": [
    "Вариант задания  № 15\n",
    "\n",
    "Описание:"
   ]
  },
  {
   "cell_type": "markdown",
   "metadata": {},
   "source": [
    "Создать базовый класс OrderLine в C#, который будет представлять информацию о\n",
    "строке заказа, содержащей детали одного товара в заказе. На основе этого класса\n",
    "разработать 2-3 производных класса, демонстрирующих принципы наследования и\n",
    "полиморфизма. В каждом из классов должны быть реализованы новые атрибуты и\n",
    "методы, а также переопределены некоторые методы базового класса для\n",
    "демонстрации полиморфизма.\n",
    "\n",
    "Требования к базовому классу OrderLine:\n",
    "\n",
    "• Атрибуты: ID товара (ProductId), Название товара (ProductName), Цена\n",
    "товара (Price).\n",
    "\n",
    "• Методы:\n",
    "\n",
    "• CalculateTotal(): метод для расчета общей стоимости строки заказа.\n",
    "\n",
    "• UpdatePrice(decimal newPrice): метод для обновления цены товара в\n",
    "строке заказа.\n",
    "\n",
    "• GetProductDetails(): метод для получения деталей товара.\n",
    "\n",
    "Требования к производным классам:\n",
    "1. СтандартнаяСтрока (StandardLine): Должна содержать дополнительные\n",
    "атрибуты, такие как Количество единиц (Units). Метод CalculateTotal() должен\n",
    "быть переопределен для учета количества единиц при расчете общей\n",
    "стоимости.\n",
    "2. СпециальнаяСтрока (SpecialLine): Должна содержать дополнительные\n",
    "атрибуты, такие как Скидка (Discount). Метод UpdatePrice() должен быть\n",
    "переопределен для применения скидки к цене товара.\n",
    "3. БесплатнаяСтрока (FreeLine) (если требуется третий класс): Должна\n",
    "содержать дополнительные атрибуты, такие как Предварительный платеж\n",
    "(Prepayment). Метод CalculateTotal() должен быть переопределен для учета\n",
    "предварительного плата при расчете общей стоимости."
   ]
  },
  {
   "cell_type": "markdown",
   "metadata": {},
   "source": [
    "Дополнительное задание:\n",
    "\n",
    "Добавьте к сущестующим классам конструктора классов с использованием гетторов и сетторов и реализуйте взаимодействие объектов между собой"
   ]
  },
  {
   "cell_type": "markdown",
   "metadata": {},
   "source": [
    "Реализация:"
   ]
  },
  {
   "cell_type": "code",
   "execution_count": 2,
   "metadata": {
    "dotnet_interactive": {
     "language": "csharp"
    },
    "polyglot_notebook": {
     "kernelName": "csharp"
    },
    "vscode": {
     "languageId": "polyglot-notebook"
    }
   },
   "outputs": [
    {
     "name": "stdout",
     "output_type": "stream",
     "text": [
      "ID: 1, Name: Стандартный товар, Price: 100, Units: 3\n",
      "Общая стоимость: 300\n",
      "ID: 2, Name: Специальный товар, Price: 150, Discount: 20\n",
      "Общая стоимость после обновления цены: 140\n",
      "ID: 3, Name: Бесплатный товар, Price: 50, Prepayment: 10\n",
      "Общая стоимость: 40\n"
     ]
    }
   ],
   "source": [
    "class OrderLine\n",
    "{\n",
    "    public int ProductId { get; set; }\n",
    "    public string ProductName { get; set; }\n",
    "    public decimal Price { get; set; }\n",
    "\n",
    "    public OrderLine(int productId, string productName, decimal price)\n",
    "    {\n",
    "        ProductId = productId;\n",
    "        ProductName = productName;\n",
    "        Price = price;\n",
    "    }\n",
    "\n",
    "    public virtual decimal CalculateTotal()\n",
    "    {\n",
    "        return Price;\n",
    "    }\n",
    "\n",
    "    public virtual void UpdatePrice(decimal newPrice)\n",
    "    {\n",
    "        Price = newPrice;\n",
    "    }\n",
    "\n",
    "    public virtual string GetProductDetails()\n",
    "    {\n",
    "        return $\"ID: {ProductId}, Name: {ProductName}, Price: {Price}\";\n",
    "    }\n",
    "}\n",
    "\n",
    "class StandardLine : OrderLine\n",
    "{\n",
    "    public int Units { get; set; }\n",
    "\n",
    "    public StandardLine(int productId, string productName, decimal price, int units)\n",
    "        : base(productId, productName, price)\n",
    "    {\n",
    "        Units = units;\n",
    "    }\n",
    "\n",
    "    public override decimal CalculateTotal()\n",
    "    {\n",
    "        return Price * Units;\n",
    "    }\n",
    "\n",
    "    public override string GetProductDetails()\n",
    "    {\n",
    "        return base.GetProductDetails() + $\", Units: {Units}\";\n",
    "    }\n",
    "}\n",
    "\n",
    "class SpecialLine : OrderLine\n",
    "{\n",
    "    public decimal Discount { get; set; }\n",
    "\n",
    "    public SpecialLine(int productId, string productName, decimal price, decimal discount)\n",
    "        : base(productId, productName, price)\n",
    "    {\n",
    "        Discount = discount;\n",
    "    }\n",
    "\n",
    "    public override void UpdatePrice(decimal newPrice)\n",
    "    {\n",
    "        Price = newPrice - Discount;\n",
    "    }\n",
    "\n",
    "    public override string GetProductDetails()\n",
    "    {\n",
    "        return base.GetProductDetails() + $\", Discount: {Discount}\";\n",
    "    }\n",
    "}\n",
    "\n",
    "class FreeLine : OrderLine\n",
    "{\n",
    "    public decimal Prepayment { get; set; }\n",
    "\n",
    "    public FreeLine(int productId, string productName, decimal price, decimal prepayment)\n",
    "        : base(productId, productName, price)\n",
    "    {\n",
    "        Prepayment = prepayment;\n",
    "    }\n",
    "\n",
    "    public override decimal CalculateTotal()\n",
    "    {\n",
    "        return Price - Prepayment;\n",
    "    }\n",
    "\n",
    "    public override string GetProductDetails()\n",
    "    {\n",
    "        return base.GetProductDetails() + $\", Prepayment: {Prepayment}\";\n",
    "    }\n",
    "}\n",
    "\n",
    "var standardOrder = new StandardLine(1, \"Стандартный товар\", 100, 3);\n",
    "var specialOrder = new SpecialLine(2, \"Специальный товар\", 150, 20);\n",
    "var freeOrder = new FreeLine(3, \"Бесплатный товар\", 50, 10);\n",
    "\n",
    "Console.WriteLine(standardOrder.GetProductDetails());\n",
    "Console.WriteLine($\"Общая стоимость: {standardOrder.CalculateTotal()}\");\n",
    "\n",
    "Console.WriteLine(specialOrder.GetProductDetails());\n",
    "specialOrder.UpdatePrice(160);\n",
    "Console.WriteLine($\"Общая стоимость после обновления цены: {specialOrder.CalculateTotal()}\");\n",
    "\n",
    "Console.WriteLine(freeOrder.GetProductDetails());\n",
    "Console.WriteLine($\"Общая стоимость: {freeOrder.CalculateTotal()}\");"
   ]
  }
 ],
 "metadata": {
  "kernelspec": {
   "display_name": ".NET (C#)",
   "language": "C#",
   "name": ".net-csharp"
  },
  "language_info": {
   "name": "csharp"
  },
  "polyglot_notebook": {
   "kernelInfo": {
    "defaultKernelName": "csharp",
    "items": [
     {
      "aliases": [],
      "name": "csharp"
     }
    ]
   }
  }
 },
 "nbformat": 4,
 "nbformat_minor": 2
}
