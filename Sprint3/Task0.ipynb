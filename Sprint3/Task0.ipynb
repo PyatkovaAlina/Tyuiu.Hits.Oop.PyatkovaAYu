{
 "cells": [
  {
   "cell_type": "code",
   "execution_count": 1,
   "metadata": {
    "dotnet_interactive": {
     "language": "csharp"
    },
    "polyglot_notebook": {
     "kernelName": "csharp"
    },
    "vscode": {
     "languageId": "polyglot-notebook"
    }
   },
   "outputs": [
    {
     "name": "stdout",
     "output_type": "stream",
     "text": [
      "Собака лает\n",
      "Кошка мяукает\n",
      "Птичка щебечет\n"
     ]
    }
   ],
   "source": [
    "class Animal\n",
    "{\n",
    "    protected string name;\n",
    "    protected int age;\n",
    "\n",
    "    public string Name\n",
    "    {\n",
    "        get{return name;}\n",
    "        set{name= value;}\n",
    "    }\n",
    "\n",
    "    public int Age\n",
    "    {\n",
    "        get{return age;}\n",
    "        set{age=value;}\n",
    "    }\n",
    "\n",
    "    public Animal(string name, int age)\n",
    "    {\n",
    "        this.name=name;\n",
    "        this.age=age;\n",
    "    }\n",
    "\n",
    "    public virtual void Speak()\n",
    "    {\n",
    "        Console.WriteLine(\"Животное издает звук\");\n",
    "    }\n",
    "}\n",
    "class Dog:Animal{\n",
    "    public Dog(string name, int age):base(name, age){}\n",
    "    public override void Speak(){\n",
    "        Console.WriteLine(\"Собака лает\");\n",
    "    }\n",
    "}\n",
    "\n",
    "class Cat:Animal{\n",
    "    public Cat(string name, int age):base(name, age){}\n",
    "    public override void Speak(){\n",
    "        Console.WriteLine(\"Кошка мяукает\");\n",
    "    }\n",
    "}\n",
    "\n",
    "class Bird:Animal{\n",
    "    public Bird(string name, int age):base(name,age){}\n",
    "    public override void Speak(){\n",
    "        Console.WriteLine(\"Птичка щебечет\");\n",
    "    }\n",
    "}\n",
    "\n",
    "Animal myDog= new Dog(\"Рекс\",5);\n",
    "Animal myCar= new Cat(\"Лилия\",3);\n",
    "Animal myBird= new Bird(\"Кеша\",1);\n",
    "\n",
    "myDog.Speak();\n",
    "myCar.Speak();\n",
    "myBird.Speak();\n"
   ]
  }
 ],
 "metadata": {
  "kernelspec": {
   "display_name": ".NET (C#)",
   "language": "C#",
   "name": ".net-csharp"
  },
  "language_info": {
   "name": "csharp"
  },
  "polyglot_notebook": {
   "kernelInfo": {
    "defaultKernelName": "csharp",
    "items": [
     {
      "aliases": [],
      "name": "csharp"
     }
    ]
   }
  }
 },
 "nbformat": 4,
 "nbformat_minor": 2
}
