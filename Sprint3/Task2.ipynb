{
 "cells": [
  {
   "cell_type": "code",
   "execution_count": 1,
   "metadata": {
    "dotnet_interactive": {
     "language": "csharp"
    },
    "polyglot_notebook": {
     "kernelName": "csharp"
    },
    "vscode": {
     "languageId": "polyglot-notebook"
    }
   },
   "outputs": [
    {
     "name": "stdout",
     "output_type": "stream",
     "text": [
      "Рекс собака лает\n",
      "Лилия kошка мяукает\n",
      "Кеша птичка щебечет\n",
      "Рекс собака лает с громкостью 0\n",
      "Лилия кошка мяукает с громкостью 0\n",
      "Кеша птичка щебечет с громкостью 0\n",
      "123 собака лает\n"
     ]
    }
   ],
   "source": [
    "class Animal<T>\n",
    "{\n",
    "    protected T name;\n",
    "    protected int age;\n",
    "\n",
    "    public T Name{\n",
    "        get{return name;}\n",
    "        set{name= value;}\n",
    "    }\n",
    "\n",
    "    public int Age{\n",
    "        get{return age;}\n",
    "        set{age=value;}\n",
    "    }\n",
    "\n",
    "    public Animal(T name, int age){\n",
    "        this.name=name;\n",
    "        this.age=age;\n",
    "    }\n",
    "\n",
    "    public virtual void Speak(){\n",
    "        Console.WriteLine(\"Животное издает звук\");\n",
    "    }\n",
    "    public virtual void Speak(int volume){\n",
    "        Console.WriteLine(\"Животное издает звук с громкостью {0}\", volume);\n",
    "    }\n",
    "}\n",
    "class Dog<T>:Animal<T>{\n",
    "    public Dog(T name, int age):base(name, age){}\n",
    "    public override void Speak(){\n",
    "        Console.WriteLine($\"{name} собака лает\");\n",
    "    }\n",
    "    public override void Speak(int volume){\n",
    "        Console.WriteLine($\"{name} собака лает с громкостью {0}\", volume);\n",
    "    }\n",
    "}\n",
    "\n",
    "class Cat<T>:Animal<T>{\n",
    "    public Cat(T name, int age):base(name, age){}\n",
    "    public override void Speak(){\n",
    "        Console.WriteLine($\"{name} kошка мяукает\");\n",
    "    }\n",
    "    public override void Speak(int volume){\n",
    "        Console.WriteLine($\"{name} кошка мяукает с громкостью {0}\", volume);\n",
    "    }\n",
    "}\n",
    "\n",
    "class Bird<T>:Animal<T>{\n",
    "    public Bird(T name, int age):base(name,age){}\n",
    "    public override void Speak(){\n",
    "        Console.WriteLine($\"{name} птичка щебечет\");\n",
    "    }\n",
    "    public override void Speak(int volume){\n",
    "        Console.WriteLine($\"{name} птичка щебечет с громкостью {0}\", volume);\n",
    "    }\n",
    "}\n",
    "\n",
    "Dog<string> myDog= new Dog<string>(\"Рекс\",5);\n",
    "Cat<string> myCar= new Cat<string>(\"Лилия\",3);\n",
    "Bird<string> myBird= new Bird<string>(\"Кеша\",1);\n",
    "\n",
    "myDog.Speak();\n",
    "myCar.Speak();\n",
    "myBird.Speak();\n",
    "\n",
    "myDog.Speak(3);\n",
    "myCar.Speak(6);\n",
    "myBird.Speak(10);\n",
    "\n",
    "Dog<int> numberDog=new Dog<int>(123,7);\n",
    "numberDog.Speak();\n"
   ]
  }
 ],
 "metadata": {
  "kernelspec": {
   "display_name": ".NET (C#)",
   "language": "C#",
   "name": ".net-csharp"
  },
  "language_info": {
   "name": "csharp"
  },
  "polyglot_notebook": {
   "kernelInfo": {
    "defaultKernelName": "csharp",
    "items": [
     {
      "aliases": [],
      "name": "csharp"
     }
    ]
   }
  }
 },
 "nbformat": 4,
 "nbformat_minor": 2
}
