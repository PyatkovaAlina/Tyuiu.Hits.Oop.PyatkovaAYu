{
 "cells": [
  {
   "cell_type": "code",
   "execution_count": 3,
   "metadata": {
    "dotnet_interactive": {
     "language": "csharp"
    },
    "polyglot_notebook": {
     "kernelName": "csharp"
    },
    "vscode": {
     "languageId": "polyglot-notebook"
    }
   },
   "outputs": [
    {
     "name": "stdout",
     "output_type": "stream",
     "text": [
      "Собака начинает тренировку.\n",
      "Это животное знает 8 команд.\n",
      "Собака заканчивает тренировку.\n",
      "Кошка начинает тренировку.\n",
      "Это животное знает 3 команд.\n",
      "Кошка заканчивает тренировку.\n",
      "Попугай начинает тренировку.\n",
      "Это животное знает 4 команд.\n",
      "Попугай заканчивает тренировку.\n"
     ]
    }
   ],
   "source": [
    "public interface IAnimal\n",
    "{\n",
    "    void Start();            // Метод для запуска тренировки животного\n",
    "    void Stop();             // Метод для остановки тренировки животного\n",
    "    int GetNumberOfCommands(); // Метод для получения количества комманд\n",
    "}\n",
    "public class Dog : IAnimal\n",
    "{\n",
    "    public void Start()\n",
    "    {\n",
    "        Console.WriteLine(\"Собака начинает тренировку.\");\n",
    "    }\n",
    "\n",
    "    public void Stop()\n",
    "    {\n",
    "        Console.WriteLine(\"Собака заканчивает тренировку.\");\n",
    "    }\n",
    "\n",
    "    public int GetNumberOfCommands()\n",
    "    {\n",
    "        return 8; // собака знает 8 комманд\n",
    "    }\n",
    "}\n",
    "\n",
    "public class Cat : IAnimal\n",
    "{\n",
    "    public void Start()\n",
    "    {\n",
    "        Console.WriteLine(\"Кошка начинает тренировку.\");\n",
    "    }\n",
    "\n",
    "    public void Stop()\n",
    "    {\n",
    "        Console.WriteLine(\"Кошка заканчивает тренировку.\");\n",
    "    }\n",
    "\n",
    "    public int GetNumberOfCommands()\n",
    "    {\n",
    "        return 3; // кошка знает 3 комманд\n",
    "    }\n",
    "}\n",
    "\n",
    "public class Bird : IAnimal\n",
    "{\n",
    "    public void Start()\n",
    "    {\n",
    "        Console.WriteLine(\"Попугай начинает тренировку.\");\n",
    "    }\n",
    "\n",
    "    public void Stop()\n",
    "    {\n",
    "        Console.WriteLine(\"Попугай заканчивает тренировку.\");\n",
    "    }\n",
    "\n",
    "    public int GetNumberOfCommands()\n",
    "    {\n",
    "        return 4; // Попугай знает 4 комманды\n",
    "    }\n",
    "}\n",
    "\n",
    "public class TrainerService\n",
    "{\n",
    "    private readonly IAnimal _animal;\n",
    "\n",
    "    // Внедрение зависимости через конструктор\n",
    "    public TrainerService(IAnimal animal)\n",
    "    {\n",
    "        _animal = animal; \n",
    "    }\n",
    "\n",
    "    public void TrainAnimal()\n",
    "    {\n",
    "        _animal.Start(); // Начинаем тренировку животного\n",
    "        Console.WriteLine($\"Это животное знает {_animal.GetNumberOfCommands()} команд.\");\n",
    "        _animal.Stop(); // Заканчиваем тренировку животного\n",
    "    }\n",
    "}\n",
    "\n",
    "IAnimal myDog = new Dog(); // Создаем объект собаки\n",
    "TrainerService dogService = new TrainerService(myDog); // Передаем машину в сервис\n",
    "dogService.TrainAnimal(); // Используем сервис с собакой\n",
    "\n",
    "IAnimal myCat = new Cat(); // Создаем объект кошки\n",
    "TrainerService catService = new TrainerService(myCat); // Передаем мотоцикл в сервис\n",
    "catService.TrainAnimal(); // Используем сервис с кошкой\n",
    "\n",
    "IAnimal myBird = new Bird(); // Создаем объект попугая\n",
    "TrainerService birdService = new TrainerService(myBird); // Передаем мотоцикл в сервис\n",
    "birdService.TrainAnimal(); // Используем сервис с попугаем"
   ]
  }
 ],
 "metadata": {
  "kernelspec": {
   "display_name": ".NET (C#)",
   "language": "C#",
   "name": ".net-csharp"
  },
  "language_info": {
   "name": "csharp"
  },
  "polyglot_notebook": {
   "kernelInfo": {
    "defaultKernelName": "csharp",
    "items": [
     {
      "aliases": [],
      "name": "csharp"
     }
    ]
   }
  }
 },
 "nbformat": 4,
 "nbformat_minor": 2
}
