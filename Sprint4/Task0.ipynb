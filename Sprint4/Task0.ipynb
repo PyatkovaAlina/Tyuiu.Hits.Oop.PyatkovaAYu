{
 "cells": [
  {
   "cell_type": "code",
   "execution_count": 4,
   "metadata": {
    "dotnet_interactive": {
     "language": "csharp"
    },
    "polyglot_notebook": {
     "kernelName": "csharp"
    },
    "vscode": {
     "languageId": "polyglot-notebook"
    }
   },
   "outputs": [
    {
     "name": "stdout",
     "output_type": "stream",
     "text": [
      "Чёрный Лабрадор тренируется.\n",
      "Собака готова к тренировке.\n",
      "Собака разгоняется до 10 км/ч.\n",
      "Текущая скорость: 10 км/ч\n",
      "Белый Мейн-кун тренируется.\n",
      "Кошка готова к тренировке.\n",
      "Кошка мяукает!\n",
      "Белый Мейн-кун отдыхает.\n",
      "Кошка устала и отдыхает.\n",
      "Разноцветный Кеша тренируется.\n",
      "Попугай готов к полёту.\n",
      "Попугай разговаривает!\n",
      "Разноцветный Кеша отдыхает.\n",
      "Попугай улетел в клетку.\n"
     ]
    }
   ],
   "source": [
    "public interface IAnimal\n",
    "{\n",
    "    void Start();\n",
    "    void Stop();\n",
    "    int GetCurrentSpeed();\n",
    "}\n",
    "\n",
    "public abstract class Animal  : IAnimal \n",
    "{\n",
    "    public string Color { get; set; }\n",
    "    public string Breed { get; set; }\n",
    "    protected int currentSpeed;\n",
    "\n",
    "    public virtual void Start()\n",
    "    {\n",
    "        currentSpeed = 0;\n",
    "        Console.WriteLine($\"{Color} {Breed} тренируется.\");\n",
    "    }\n",
    "\n",
    "    public virtual void Stop()\n",
    "    {\n",
    "        currentSpeed = 0;\n",
    "        Console.WriteLine($\"{Color} {Breed} отдыхает.\");\n",
    "    }\n",
    "\n",
    "    public virtual int GetCurrentSpeed()\n",
    "    {\n",
    "        return currentSpeed;\n",
    "    }\n",
    "}\n",
    "\n",
    "public class Dog : Animal\n",
    "{\n",
    "    public int NumberOfCommands { get; set; }\n",
    "\n",
    "    public override void Start()\n",
    "    {\n",
    "        base.Start();\n",
    "        Console.WriteLine(\"Собака готова к тренировке.\");\n",
    "    }\n",
    "\n",
    "    public override void Stop()\n",
    "    {\n",
    "        base.Stop();\n",
    "        Console.WriteLine(\"Собака отдыхает и пьёт.\");\n",
    "    }\n",
    "\n",
    "    public void Accelerate(int amount)\n",
    "    {\n",
    "        currentSpeed += amount;\n",
    "        Console.WriteLine($\"Собака разгоняется до {currentSpeed} км/ч.\");\n",
    "    }\n",
    "}\n",
    "\n",
    "public class Cat : Animal\n",
    "{\n",
    "    public bool HasClaws { get; set; }\n",
    "\n",
    "    public override void Start()\n",
    "    {\n",
    "        base.Start();\n",
    "        Console.WriteLine(\"Кошка готова к тренировке.\");\n",
    "    }\n",
    "\n",
    "    public override void Stop()\n",
    "    {\n",
    "        base.Stop();\n",
    "        Console.WriteLine(\"Кошка устала и отдыхает.\");\n",
    "    }\n",
    "\n",
    "    public void Sounds()\n",
    "    {\n",
    "        Console.WriteLine(\"Кошка мяукает!\");\n",
    "    }\n",
    "}\n",
    "\n",
    "public class Bird  : Animal\n",
    "{\n",
    "    public int NumberOfCommands { get; set; }\n",
    "\n",
    "    public override void Start()\n",
    "    {\n",
    "        base.Start();\n",
    "        Console.WriteLine(\"Попугай готов к полёту.\");\n",
    "    }\n",
    "\n",
    "    public override void Stop()\n",
    "    {\n",
    "        base.Stop();\n",
    "        Console.WriteLine(\"Попугай улетел в клетку.\");\n",
    "    }\n",
    "\n",
    "    public void Sounds()\n",
    "    {\n",
    "        Console.WriteLine(\"Попугай разговаривает!\");\n",
    "    }\n",
    "}\n",
    "\n",
    "IAnimal myDog = new Dog { Color = \"Чёрный\", Breed = \"Лабрадор\", NumberOfCommands = 8 };\n",
    "myDog.Start();\n",
    "((Dog)myDog).Accelerate(10);\n",
    "Console.WriteLine($\"Текущая скорость: {myDog.GetCurrentSpeed()} км/ч\");\n",
    "        \n",
    "IAnimal myCat = new Cat { Color = \"Белый\", Breed = \"Мейн-кун\", HasClaws = true };\n",
    "myCat.Start();\n",
    "((Cat)myCat).Sounds();\n",
    "myCat.Stop();\n",
    "\n",
    "IAnimal myBird = new Bird { Color = \"Разноцветный\", Breed = \"Кеша\", NumberOfCommands = 4 };\n",
    "myBird.Start();\n",
    "((Bird)myBird).Sounds();\n",
    "myBird.Stop();"
   ]
  }
 ],
 "metadata": {
  "kernelspec": {
   "display_name": ".NET (C#)",
   "language": "C#",
   "name": ".net-csharp"
  },
  "language_info": {
   "name": "csharp"
  },
  "polyglot_notebook": {
   "kernelInfo": {
    "defaultKernelName": "csharp",
    "items": [
     {
      "aliases": [],
      "name": "csharp"
     }
    ]
   }
  }
 },
 "nbformat": 4,
 "nbformat_minor": 2
}
