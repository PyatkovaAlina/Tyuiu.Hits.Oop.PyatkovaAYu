{
 "cells": [
  {
   "cell_type": "code",
   "execution_count": 5,
   "metadata": {
    "dotnet_interactive": {
     "language": "csharp"
    },
    "polyglot_notebook": {
     "kernelName": "csharp"
    },
    "vscode": {
     "languageId": "polyglot-notebook"
    }
   },
   "outputs": [
    {
     "name": "stdout",
     "output_type": "stream",
     "text": [
      "Чёрный Лабрадор тренируется.\n",
      "Чёрный Лабрадор отдыхает.\n",
      "Белый Мейн-кун тренируется.\n",
      "Белый Мейн-кун отдыхает.\n",
      "Разноцветный Кеша тренируется.\n",
      "Разноцветный Кеша отдыхает.\n"
     ]
    }
   ],
   "source": [
    "public interface IAnimal\n",
    "{\n",
    "    void Start();\n",
    "    void Stop();\n",
    "    int GetCurrentSpeed();\n",
    "}\n",
    "\n",
    "public class Dog : IAnimal\n",
    "{\n",
    "    public string Color { get; set; }\n",
    "    public string Breed { get; set; }\n",
    "    private int currentSpeed;\n",
    "\n",
    "    // Явная реализация интерфейса\n",
    "    void IAnimal.Start()\n",
    "    {\n",
    "        currentSpeed = 0;\n",
    "        Console.WriteLine($\"{Color} {Breed} тренируется.\");\n",
    "    }\n",
    "\n",
    "    void IAnimal.Stop()\n",
    "    {\n",
    "        currentSpeed = 0;\n",
    "        Console.WriteLine($\"{Color} {Breed} отдыхает.\");\n",
    "    }\n",
    "\n",
    "    // Неявная реализация метода\n",
    "    public int GetCurrentSpeed()\n",
    "    {\n",
    "        return currentSpeed;\n",
    "    }\n",
    "}\n",
    "\n",
    "public class Cat : IAnimal\n",
    "{\n",
    "    public string Color { get; set; }\n",
    "    public string Breed { get; set; }\n",
    "    private int currentSpeed;\n",
    "\n",
    "    // Явная реализация интерфейса\n",
    "    void IAnimal.Start()\n",
    "    {\n",
    "        currentSpeed = 0;\n",
    "        Console.WriteLine($\"{Color} {Breed} тренируется.\");\n",
    "    }\n",
    "\n",
    "    void IAnimal.Stop()\n",
    "    {\n",
    "        currentSpeed = 0;\n",
    "        Console.WriteLine($\"{Color} {Breed} отдыхает.\");\n",
    "    }\n",
    "\n",
    "    // Неявная реализация метода\n",
    "    public int GetCurrentSpeed()\n",
    "    {\n",
    "        return currentSpeed;\n",
    "    }\n",
    "}\n",
    "\n",
    "public class Bird : IAnimal\n",
    "{\n",
    "    public string Color { get; set; }\n",
    "    public string Breed { get; set; }\n",
    "    private int currentSpeed;\n",
    "\n",
    "    // Явная реализация интерфейса\n",
    "    void IAnimal.Start()\n",
    "    {\n",
    "        currentSpeed = 0;\n",
    "        Console.WriteLine($\"{Color} {Breed} тренируется.\");\n",
    "    }\n",
    "\n",
    "    void IAnimal.Stop()\n",
    "    {\n",
    "        currentSpeed = 0;\n",
    "        Console.WriteLine($\"{Color} {Breed} отдыхает.\");\n",
    "    }\n",
    "\n",
    "    // Неявная реализация метода\n",
    "    public int GetCurrentSpeed()\n",
    "    {\n",
    "        return currentSpeed;\n",
    "    }\n",
    "}\n",
    "\n",
    "IAnimal myDog = new Dog { Color = \"Чёрный\", Breed = \"Лабрадор\" };\n",
    "myDog.Start(); // Корректно, вызывает явную реализацию\n",
    "myDog.Stop(); // Корректно, вызывает явную реализацию\n",
    "\n",
    "IAnimal myCat = new Cat { Color = \"Белый\", Breed = \"Мейн-кун\" };\n",
    "myCat.Start();\n",
    "myCat.Stop();\n",
    "\n",
    "IAnimal myBird = new Bird { Color = \"Разноцветный\", Breed = \"Кеша\" };\n",
    "myBird.Start();\n",
    "myBird.Stop();"
   ]
  }
 ],
 "metadata": {
  "kernelspec": {
   "display_name": ".NET (C#)",
   "language": "C#",
   "name": ".net-csharp"
  },
  "language_info": {
   "name": "csharp"
  },
  "polyglot_notebook": {
   "kernelInfo": {
    "defaultKernelName": "csharp",
    "items": [
     {
      "aliases": [],
      "name": "csharp"
     }
    ]
   }
  }
 },
 "nbformat": 4,
 "nbformat_minor": 2
}
