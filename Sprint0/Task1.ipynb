{
 "cells": [
  {
   "cell_type": "code",
   "execution_count": 1,
   "metadata": {
    "dotnet_interactive": {
     "language": "csharp"
    },
    "polyglot_notebook": {
     "kernelName": "csharp"
    },
    "vscode": {
     "languageId": "polyglot-notebook"
    }
   },
   "outputs": [],
   "source": [
    "class Animal\n",
    "{\n",
    "\n",
    "}\n",
    "Animal Dog = new Animal();"
   ]
  },
  {
   "cell_type": "code",
   "execution_count": 2,
   "metadata": {
    "dotnet_interactive": {
     "language": "csharp"
    },
    "polyglot_notebook": {
     "kernelName": "csharp"
    },
    "vscode": {
     "languageId": "polyglot-notebook"
    }
   },
   "outputs": [
    {
     "name": "stdout",
     "output_type": "stream",
     "text": [
      "Сидеть...\n",
      "Чёрный\n"
     ]
    }
   ],
   "source": [
    "class Animal\n",
    "{\n",
    "    private string color;\n",
    "\n",
    "    public string Color\n",
    "    {\n",
    "        get { return color; }\n",
    "        set { color = value; }\n",
    "    }\n",
    "\n",
    "    public void SitDown()\n",
    "    {\n",
    "        Console.WriteLine(\"Сидеть...\");\n",
    "    }\n",
    "}\n",
    "\n",
    "Animal Dog = new Animal();\n",
    "Dog.Color = \"Чёрный\";\n",
    "Dog.SitDown();\n",
    "Console.WriteLine(Dog.Color);"
   ]
  },
  {
   "cell_type": "code",
   "execution_count": 3,
   "metadata": {
    "dotnet_interactive": {
     "language": "csharp"
    },
    "polyglot_notebook": {
     "kernelName": "csharp"
    },
    "vscode": {
     "languageId": "polyglot-notebook"
    }
   },
   "outputs": [
    {
     "name": "stdout",
     "output_type": "stream",
     "text": [
      "Белый\n",
      "Лежать...\n",
      "Коричневый\n",
      "Лежать...\n"
     ]
    }
   ],
   "source": [
    "class Animal\n",
    "{\n",
    "    private string color;\n",
    "\n",
    "    public string Color\n",
    "    {\n",
    "        get { return color; }\n",
    "        set { color = value; }\n",
    "    }\n",
    "    public void StayDown()\n",
    "    {\n",
    "        Console.WriteLine(\"Лежать...\");\n",
    "    }\n",
    "}\n",
    "\n",
    "class Dog : Animal\n",
    "{\n",
    "\n",
    "}\n",
    "\n",
    "Animal myAnimal = new Animal();\n",
    "Dog myDog = new Dog();\n",
    "\n",
    "myDog.Color = \"Белый\";\n",
    "Console.WriteLine(myDog.Color);\n",
    "myDog.StayDown();\n",
    "\n",
    "myAnimal.Color = \"Коричневый\";\n",
    "Console.WriteLine(myAnimal.Color);\n",
    "myAnimal.StayDown();"
   ]
  },
  {
   "cell_type": "code",
   "execution_count": 4,
   "metadata": {
    "dotnet_interactive": {
     "language": "csharp"
    },
    "polyglot_notebook": {
     "kernelName": "csharp"
    },
    "vscode": {
     "languageId": "polyglot-notebook"
    }
   },
   "outputs": [
    {
     "name": "stdout",
     "output_type": "stream",
     "text": [
      "Животное лежит\n",
      "Собака лежит\n"
     ]
    }
   ],
   "source": [
    "class Animal\n",
    "{\n",
    "    public virtual void StayDown()\n",
    "    {\n",
    "        Console.WriteLine(\"Животное лежит\");\n",
    "    }\n",
    "}\n",
    "\n",
    "class Dog : Animal\n",
    "{\n",
    "    public override void StayDown()\n",
    "    {\n",
    "        Console.WriteLine(\"Собака лежит\");\n",
    "    }\n",
    "}\n",
    "\n",
    "Animal myAnimal = new Animal();\n",
    "Dog myDog = new Dog();\n",
    "\n",
    "\n",
    "myAnimal.StayDown();\n",
    "myDog.StayDown();"
   ]
  },
  {
   "cell_type": "code",
   "execution_count": 5,
   "metadata": {
    "dotnet_interactive": {
     "language": "csharp"
    },
    "polyglot_notebook": {
     "kernelName": "csharp"
    },
    "vscode": {
     "languageId": "polyglot-notebook"
    }
   },
   "outputs": [
    {
     "name": "stdout",
     "output_type": "stream",
     "text": [
      "Собака сыта...\n",
      "Лежать...\n"
     ]
    }
   ],
   "source": [
    "abstract class Dog\n",
    "{\n",
    "    public abstract void FeedTheDog();\n",
    "\n",
    "    public void StayDown()\n",
    "    {\n",
    "        Console.WriteLine(\"Лежать...\");\n",
    "    }\n",
    "}\n",
    "\n",
    "class SmallDog : Dog\n",
    "{\n",
    "    public override void FeedTheDog()\n",
    "    {\n",
    "        Console.WriteLine(\"Собака сыта...\");\n",
    "    }\n",
    "}\n",
    "\n",
    "SmallDog mySmallDog = new SmallDog();\n",
    "\n",
    "mySmallDog.FeedTheDog();\n",
    "mySmallDog.StayDown();"
   ]
  },
  {
   "cell_type": "code",
   "execution_count": 6,
   "metadata": {
    "dotnet_interactive": {
     "language": "csharp"
    },
    "polyglot_notebook": {
     "kernelName": "csharp"
    },
    "vscode": {
     "languageId": "polyglot-notebook"
    }
   },
   "outputs": [
    {
     "name": "stdout",
     "output_type": "stream",
     "text": [
      "Животное выполняет команду\n",
      "Собака слушается\n",
      "Животное устало\n"
     ]
    }
   ],
   "source": [
    "using System;\n",
    "\n",
    "public class Animal\n",
    "{\n",
    "    public void Start() => Console.WriteLine(\"Животное выполняет команду\");\n",
    "    public void Stop() => Console.WriteLine(\"Животное устало\");\n",
    "}\n",
    "\n",
    "public class Dog\n",
    "{\n",
    "    private Animal animal;\n",
    "\n",
    "    public Dog(Animal animal)\n",
    "    {\n",
    "        this.animal = animal;\n",
    "    }\n",
    "\n",
    "    public void Obey()\n",
    "    {\n",
    "        animal.Start();\n",
    "\n",
    "        Console.WriteLine(\"Собака слушается\");\n",
    "\n",
    "        animal.Stop();\n",
    "    }\n",
    "}\n",
    "\n",
    "Animal myAnimal = new Animal();\n",
    "Dog myPet = new Dog(myAnimal);\n",
    "\n",
    "myPet.Obey();"
   ]
  },
  {
   "cell_type": "code",
   "execution_count": 7,
   "metadata": {
    "dotnet_interactive": {
     "language": "csharp"
    },
    "polyglot_notebook": {
     "kernelName": "csharp"
    },
    "vscode": {
     "languageId": "polyglot-notebook"
    }
   },
   "outputs": [
    {
     "name": "stdout",
     "output_type": "stream",
     "text": [
      "Собака слушается...\n",
      "Алина воспитывает животное...\n",
      "Собака слушается...\n"
     ]
    }
   ],
   "source": [
    "using System;\n",
    "\n",
    "abstract class Animal\n",
    "{\n",
    "    public abstract void Obey();\n",
    "}\n",
    "\n",
    "class Dog : Animal\n",
    "{\n",
    "    private Owner owner;\n",
    "\n",
    "    public Dog(Owner owner)\n",
    "    {\n",
    "        this.owner = owner;\n",
    "    }\n",
    "\n",
    "    public override void Obey()\n",
    "    {\n",
    "        Console.WriteLine(\"Собака слушается...\");\n",
    "    }\n",
    "}\n",
    "\n",
    "class Owner\n",
    "{\n",
    "    public string Name { get; set; }\n",
    "\n",
    "    public Owner(string name)\n",
    "    {\n",
    "        Name = name;\n",
    "    }\n",
    "\n",
    "    public void Obey(Animal animal)\n",
    "    {\n",
    "        Console.WriteLine($\"{Name} воспитывает животное...\");\n",
    "        animal.Obey();\n",
    "    }\n",
    "}\n",
    "\n",
    "    Owner Alina = new Owner(\"Алина\");\n",
    "    Dog myDog = new Dog(Alina);\n",
    "\n",
    "    myDog.Obey();\n",
    "    Alina.Obey(myDog);"
   ]
  }
 ],
 "metadata": {
  "kernelspec": {
   "display_name": ".NET (C#)",
   "language": "C#",
   "name": ".net-csharp"
  },
  "language_info": {
   "name": "csharp"
  },
  "polyglot_notebook": {
   "kernelInfo": {
    "defaultKernelName": "csharp",
    "items": [
     {
      "aliases": [],
      "name": "csharp"
     }
    ]
   }
  }
 },
 "nbformat": 4,
 "nbformat_minor": 2
}
