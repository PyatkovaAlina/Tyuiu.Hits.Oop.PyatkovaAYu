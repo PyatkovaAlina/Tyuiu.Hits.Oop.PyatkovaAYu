{
 "cells": [
  {
   "cell_type": "markdown",
   "metadata": {},
   "source": [
    "Индивидальный проект\n",
    "\n",
    "Название проекта: Информация о деталях заказа"
   ]
  },
  {
   "cell_type": "markdown",
   "metadata": {},
   "source": [
    "Вариант задания  № 15\n",
    "\n",
    "Описание проекта:\n",
    "Создать базовый класс OrderLine в C#, который будет представлять информацию о\n",
    "строке заказа, содержащей детали одного товара в заказе. На основе этого класса\n",
    "разработать 2-3 производных класса, демонстрирующих принципы наследования и\n",
    "полиморфизма. В каждом из классов должны быть реализованы новые атрибуты и\n",
    "методы, а также переопределены некоторые методы базового класса для\n",
    "демонстрации полиморфизма.\n",
    "\n",
    "Требования к базовому классу OrderLine:\n",
    "\n",
    "• Атрибуты: ID товара (ProductId), Название товара (ProductName), Цена\n",
    "товара (Price).\n",
    "\n",
    "• Методы:\n",
    "\n",
    "• CalculateTotal(): метод для расчета общей стоимости строки заказа.\n",
    "\n",
    "• UpdatePrice(decimal newPrice): метод для обновления цены товара в\n",
    "строке заказа.\n",
    "\n",
    "• GetProductDetails(): метод для получения деталей товара.\n",
    "\n",
    "Требования к производным классам:\n",
    "1. СтандартнаяСтрока (StandardLine): Должна содержать дополнительные\n",
    "атрибуты, такие как Количество единиц (Units). Метод CalculateTotal() должен\n",
    "быть переопределен для учета количества единиц при расчете общей\n",
    "стоимости.\n",
    "2. СпециальнаяСтрока (SpecialLine): Должна содержать дополнительные\n",
    "атрибуты, такие как Скидка (Discount). Метод UpdatePrice() должен быть\n",
    "переопределен для применения скидки к цене товара.\n",
    "3. БесплатнаяСтрока (FreeLine) (если требуется третий класс): Должна\n",
    "содержать дополнительные атрибуты, такие как Предварительный платеж\n",
    "(Prepayment). Метод CalculateTotal() должен быть переопределен для учета\n",
    "предварительного плата при расчете общей стоимости."
   ]
  },
  {
   "cell_type": "markdown",
   "metadata": {},
   "source": [
    "Реализация:"
   ]
  },
  {
   "cell_type": "code",
   "execution_count": 8,
   "metadata": {
    "dotnet_interactive": {
     "language": "csharp"
    },
    "polyglot_notebook": {
     "kernelName": "csharp"
    }
   },
   "outputs": [
    {
     "name": "stdout",
     "output_type": "stream",
     "text": [
      "ProductId:1,ProductName:ProductA,Price:10,Units:2\n",
      "ProductId:2,ProductName:ProductB,Price:15,Discount:5\n",
      "ProductId:3,ProductName:ProductC,Price:20,Preplayment:10\n",
      "Total: 20\n",
      "Total: 15\n",
      "Total: 10\n"
     ]
    }
   ],
   "source": [
    "public class OrderLine{\n",
    "    protected int ProductId{get;set;}\n",
    "    protected string ProductName{get;set;}\n",
    "    protected decimal Price{get;set;}\n",
    "\n",
    "    public OrderLine(int productId,string productName,decimal price)\n",
    "    {\n",
    "        ProductId=productId;\n",
    "        ProductName=productName;\n",
    "        Price=price;\n",
    "    }\n",
    "\n",
    "    public virtual decimal CalculateTotal()\n",
    "    {\n",
    "        return Price;\n",
    "    }\n",
    "\n",
    "    public void UpdatePrice(decimal newPrice)\n",
    "    {\n",
    "        Price=newPrice;\n",
    "    }\n",
    "\n",
    "    public virtual string GetProductDetails()\n",
    "    {\n",
    "        return $\"ProductId:{ProductId},ProductName:{ProductName},Price:{Price}\";\n",
    "\n",
    "    }\n",
    "\n",
    "\n",
    "}\n",
    "\n",
    "public class StandertLine: OrderLine\n",
    "{\n",
    "    protected int Units{get;set;}\n",
    "    public StandertLine(int productId,string productName,decimal price,int units):base(productId,productName,price)\n",
    "    {\n",
    "        Units=units;\n",
    "    }\n",
    "\n",
    "    public override decimal CalculateTotal()\n",
    "    {\n",
    "        return Price*Units;\n",
    "    }\n",
    "\n",
    "    public override string GetProductDetails()\n",
    "    {\n",
    "        return base.GetProductDetails()+$\",Units:{Units}\";\n",
    "    }\n",
    "}\n",
    "\n",
    "public class SpecialLine:OrderLine{\n",
    "    protected decimal Discount{get;set;}\n",
    "    public SpecialLine(int productId,string productName,decimal price,int discount):base(productId,productName,price){\n",
    "        Discount=discount;\n",
    "\n",
    "    }\n",
    "\n",
    "    \n",
    "    public override string GetProductDetails()\n",
    "    {\n",
    "        return base.GetProductDetails()+$\",Discount:{Discount}\";\n",
    "    }\n",
    "}\n",
    "\n",
    "public class FreeLine: OrderLine{\n",
    "    protected decimal Preplayment{get;set;}\n",
    "    public FreeLine(int productId,string productName,decimal price,decimal prepayment):base(productId,productName,price)\n",
    "    {\n",
    "        Preplayment=prepayment;\n",
    "    }\n",
    "    public override decimal CalculateTotal()\n",
    "    {\n",
    "        return Price-Preplayment;\n",
    "    }\n",
    "    public override string GetProductDetails()\n",
    "    {\n",
    "        return base.GetProductDetails()+$\",Preplayment:{Preplayment}\";\n",
    "    }\n",
    "}\n",
    "\n",
    "        StandertLine standertLine=new StandertLine(1,\"ProductA\",10,2);\n",
    "        SpecialLine specialLine=new SpecialLine(2,\"ProductB\",15,5);\n",
    "        FreeLine freeLine=new FreeLine(3,\"ProductC\",20,10);\n",
    "\n",
    "        Console.WriteLine(standertLine.GetProductDetails());\n",
    "        Console.WriteLine(specialLine.GetProductDetails());\n",
    "        Console.WriteLine(freeLine.GetProductDetails());\n",
    "\n",
    "        Console.WriteLine(\"Total: \"+ standertLine.CalculateTotal());\n",
    "        Console.WriteLine(\"Total: \"+ specialLine.CalculateTotal());\n",
    "        Console.WriteLine(\"Total: \"+ freeLine.CalculateTotal());\n",
    "    \n",
    "\n"
   ]
  }
 ],
 "metadata": {
  "kernelspec": {
   "display_name": ".NET (C#)",
   "language": "C#",
   "name": ".net-csharp"
  },
  "polyglot_notebook": {
   "kernelInfo": {
    "defaultKernelName": "csharp",
    "items": [
     {
      "aliases": [],
      "languageName": "csharp",
      "name": "csharp"
     }
    ]
   }
  }
 },
 "nbformat": 4,
 "nbformat_minor": 2
}
